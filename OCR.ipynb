{
 "cells": [
  {
   "cell_type": "markdown",
   "metadata": {},
   "source": [
    "# Detect Text in Image and Translate it into Target Language.\n",
    "\n",
    "## What are we making and buisness use-case ? \n",
    "We are making an Optical Character Recognition and Text Translation. \n",
    "- Optical Character Recoginition\n",
    "    - It is one of the most important day eye concept. It is used in mutliple AI project such as traffic number plate detection system and handwritting recognition system.\n",
    "- Text Translation\n",
    "    - It is also one of the most important AI concept used in many application for translation of text to particular target language.\n",
    "    \n",
    "**Use Case**\n",
    "We can use it to identify images on your camera and gain more information about landmarks, places, plants, animals, products, and other objects. It can also be used to scan and translate text.\n",
    "    "
   ]
  },
  {
   "cell_type": "markdown",
   "metadata": {},
   "source": [
    "## Project Goals and Objectives\n",
    "\n",
    "1. Basics and quick theory of optical character recognition and translation engine.\n",
    "2. Create our own optical character recognizer from scratch.\n",
    "3. Different ways of building OCR.\n",
    "\n",
    "After these three steps we will be able to recognize text from images . Now next step involves translation.\n",
    "\n",
    "4. Here we convert the text into particular target language.\n",
    "\n",
    "![Image](a.png)"
   ]
  },
  {
   "cell_type": "markdown",
   "metadata": {},
   "source": [
    "# Phase 1\n",
    "## Buliding an OCR from SCRATCH\n",
    "\n",
    "Optical character reognition or optical character reader is the electronic or mechanical conversion of images of typed, handwritten or printed text into machine-encoded text, whether from a scanned document, a photo of a document, a scene-photo.\n",
    "\n",
    "In layman terms, it simply extract the images from the string in the given format."
   ]
  },
  {
   "cell_type": "markdown",
   "metadata": {},
   "source": [
    "### Two ways to create an OCR\n",
    "1. Using open source API\n",
    "2. Using credential API"
   ]
  },
  {
   "cell_type": "markdown",
   "metadata": {},
   "source": [
    "## 1. Using Open Source API\n",
    "\n",
    "System Installation Required\n",
    "- GoogleTesseract-OCR engine. [Link](https://github.com/tesseract-ocr/tessdoc#binaries)\n",
    "    - Install and then set the environment variables.\n",
    "- Python Libraries\n",
    "    - Pillow\n",
    "    - pytesseract"
   ]
  },
  {
   "cell_type": "code",
   "execution_count": 1,
   "metadata": {},
   "outputs": [
    {
     "name": "stdout",
     "output_type": "stream",
     "text": [
      "Requirement already satisfied: pillow in c:\\programdata\\anaconda3\\lib\\site-packages (6.2.0)\n"
     ]
    }
   ],
   "source": [
    "!pip install pillow"
   ]
  },
  {
   "cell_type": "code",
   "execution_count": 2,
   "metadata": {},
   "outputs": [
    {
     "name": "stdout",
     "output_type": "stream",
     "text": [
      "Requirement already satisfied: pytesseract in c:\\programdata\\anaconda3\\lib\\site-packages (0.3.8)\n",
      "Requirement already satisfied: Pillow in c:\\programdata\\anaconda3\\lib\\site-packages (from pytesseract) (6.2.0)\n"
     ]
    }
   ],
   "source": [
    "!pip install pytesseract"
   ]
  },
  {
   "cell_type": "markdown",
   "metadata": {},
   "source": [
    "**We are ready to start with the project since all our requirement and libraries are satisfied.**"
   ]
  },
  {
   "cell_type": "code",
   "execution_count": 9,
   "metadata": {},
   "outputs": [],
   "source": [
    "from IPython.display import Image"
   ]
  },
  {
   "cell_type": "code",
   "execution_count": 10,
   "metadata": {
    "scrolled": false
   },
   "outputs": [
    {
     "data": {
      "text/html": [
       "<img src=\"img\\sample_text.png\" width=\"200\"/>"
      ],
      "text/plain": [
       "<IPython.core.display.Image object>"
      ]
     },
     "execution_count": 10,
     "metadata": {},
     "output_type": "execute_result"
    }
   ],
   "source": [
    "Image(url='img\\sample_text.png', width=200)"
   ]
  },
  {
   "cell_type": "code",
   "execution_count": 11,
   "metadata": {},
   "outputs": [
    {
     "data": {
      "text/html": [
       "<img src=\"img\\sample_digit.png\" width=\"200\"/>"
      ],
      "text/plain": [
       "<IPython.core.display.Image object>"
      ]
     },
     "execution_count": 11,
     "metadata": {},
     "output_type": "execute_result"
    }
   ],
   "source": [
    "Image(url='img\\sample_digit.png', width=200)"
   ]
  },
  {
   "cell_type": "code",
   "execution_count": 12,
   "metadata": {},
   "outputs": [],
   "source": [
    "#Importing the Libraries\n",
    "from PIL import Image\n",
    "import pytesseract"
   ]
  },
  {
   "cell_type": "code",
   "execution_count": 13,
   "metadata": {},
   "outputs": [],
   "source": [
    "#Sample Text Image\n",
    "image_text = Image.open(\"img\\sample_text.png\")\n",
    "#Sample Digit Image\n",
    "image_digit = Image.open(\"img\\sample_digit.png\")"
   ]
  },
  {
   "cell_type": "code",
   "execution_count": 14,
   "metadata": {},
   "outputs": [],
   "source": [
    "#Variable to text from this particular image\n",
    "word = pytesseract.image_to_string(image_text)\n",
    "#Variable to digit from this particular image\n",
    "digit = pytesseract.image_to_string(image_digit)"
   ]
  },
  {
   "cell_type": "code",
   "execution_count": 15,
   "metadata": {
    "scrolled": true
   },
   "outputs": [
    {
     "data": {
      "text/plain": [
       "'Live as if you were to die tomorrow.\\nLearn as if you were to live forever.\\n\\n-Mahatma Gandhi\\n\\x0c'"
      ]
     },
     "execution_count": 15,
     "metadata": {},
     "output_type": "execute_result"
    }
   ],
   "source": [
    "word"
   ]
  },
  {
   "cell_type": "code",
   "execution_count": 16,
   "metadata": {},
   "outputs": [
    {
     "data": {
      "text/plain": [
       "'123545\\n67890\\n\\x0c'"
      ]
     },
     "execution_count": 16,
     "metadata": {},
     "output_type": "execute_result"
    }
   ],
   "source": [
    "digit"
   ]
  }
 ],
 "metadata": {
  "kernelspec": {
   "display_name": "Python 3",
   "language": "python",
   "name": "python3"
  },
  "language_info": {
   "codemirror_mode": {
    "name": "ipython",
    "version": 3
   },
   "file_extension": ".py",
   "mimetype": "text/x-python",
   "name": "python",
   "nbconvert_exporter": "python",
   "pygments_lexer": "ipython3",
   "version": "3.7.4"
  }
 },
 "nbformat": 4,
 "nbformat_minor": 2
}
